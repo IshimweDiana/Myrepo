{
 "cells": [
  {
   "cell_type": "code",
   "execution_count": 1,
   "id": "e2385292-d83c-43f9-831d-495a26a8c8ee",
   "metadata": {},
   "outputs": [
    {
     "name": "stdin",
     "output_type": "stream",
     "text": [
      " Diane\n"
     ]
    }
   ],
   "source": [
    "n = input()"
   ]
  },
  {
   "cell_type": "code",
   "execution_count": 2,
   "id": "4f5e33f6-9290-4a62-9217-4bb9a6768968",
   "metadata": {},
   "outputs": [
    {
     "data": {
      "text/plain": [
       "'Diane'"
      ]
     },
     "execution_count": 2,
     "metadata": {},
     "output_type": "execute_result"
    }
   ],
   "source": [
    "n"
   ]
  },
  {
   "cell_type": "code",
   "execution_count": 5,
   "id": "f944ae89-22ac-4049-abe6-b05d50c18b90",
   "metadata": {},
   "outputs": [
    {
     "name": "stdin",
     "output_type": "stream",
     "text": [
      " 4\n",
      " daniel\n"
     ]
    },
    {
     "ename": "ValueError",
     "evalue": "invalid literal for int() with base 10: 'daniel'",
     "output_type": "error",
     "traceback": [
      "\u001b[0;31m---------------------------------------------------------------------------\u001b[0m",
      "\u001b[0;31mValueError\u001b[0m                                Traceback (most recent call last)",
      "Cell \u001b[0;32mIn[5], line 2\u001b[0m\n\u001b[1;32m      1\u001b[0m number1\u001b[38;5;241m=\u001b[39m\u001b[38;5;28mint\u001b[39m(\u001b[38;5;28minput\u001b[39m())\n\u001b[0;32m----> 2\u001b[0m number2 \u001b[38;5;241m=\u001b[39m\u001b[38;5;28;43mint\u001b[39;49m\u001b[43m(\u001b[49m\u001b[38;5;28;43minput\u001b[39;49m\u001b[43m(\u001b[49m\u001b[43m)\u001b[49m\u001b[43m)\u001b[49m\n\u001b[1;32m      3\u001b[0m addition\u001b[38;5;241m=\u001b[39mnumber1\u001b[38;5;241m+\u001b[39mnumber2\n",
      "\u001b[0;31mValueError\u001b[0m: invalid literal for int() with base 10: 'daniel'"
     ]
    }
   ],
   "source": [
    "number1=int(input())\n",
    "number2 =int(input())\n",
    "addition=number1+number2"
   ]
  },
  {
   "cell_type": "code",
   "execution_count": 6,
   "id": "db47477b-b276-4a81-82ec-258362443066",
   "metadata": {},
   "outputs": [
    {
     "data": {
      "text/plain": [
       "'4Daniel'"
      ]
     },
     "execution_count": 6,
     "metadata": {},
     "output_type": "execute_result"
    }
   ],
   "source": [
    "addition\n"
   ]
  },
  {
   "cell_type": "code",
   "execution_count": 8,
   "id": "38174f7c-2672-4c44-a72d-67be412adbc5",
   "metadata": {},
   "outputs": [
    {
     "data": {
      "text/plain": [
       "str"
      ]
     },
     "execution_count": 8,
     "metadata": {},
     "output_type": "execute_result"
    }
   ],
   "source": [
    "number1=\"Daniel\"\n",
    "type(number1)"
   ]
  },
  {
   "cell_type": "code",
   "execution_count": 9,
   "id": "61707354-0d71-4e1a-baab-5538cba85607",
   "metadata": {},
   "outputs": [
    {
     "data": {
      "text/plain": [
       "(2+3j)"
      ]
     },
     "execution_count": 9,
     "metadata": {},
     "output_type": "execute_result"
    }
   ],
   "source": [
    "#complex\n",
    "z=complex(2,3)\n",
    "z"
   ]
  },
  {
   "cell_type": "code",
   "execution_count": 4,
   "id": "2190434f-6e05-4aa7-a9a3-aa4853227b4e",
   "metadata": {},
   "outputs": [
    {
     "name": "stdin",
     "output_type": "stream",
     "text": [
      "Enter the first number:  8\n",
      "Enter the second number:  2\n"
     ]
    },
    {
     "name": "stdout",
     "output_type": "stream",
     "text": [
      "Addition = 10.0\n",
      "Subtraction = 6.0\n",
      "Division = 4.0\n",
      "Multiplication = 16.0\n",
      "Modulus = 0.0\n"
     ]
    }
   ],
   "source": [
    "# Calculator\n",
    "number1 = float(input(\"Enter the first number: \"))\n",
    "number2 = float(input(\"Enter the second number: \"))\n",
    "\n",
    "def addition():\n",
    "    add = number1 + number2\n",
    "    print(\"Addition =\", add)\n",
    "\n",
    "def subtraction(): \n",
    "    sub = number1 - number2\n",
    "    print(\"Subtraction =\", sub)\n",
    "\n",
    "def division(): \n",
    "    if number2 != 0:\n",
    "        div = number1 / number2\n",
    "        print(\"Division =\", div)\n",
    "    else:\n",
    "        print(\"Division by zero is not allowed.\")\n",
    "\n",
    "def multiply(): \n",
    "    mult = number1 * number2\n",
    "    print(\"Multiplication =\", mult)\n",
    "\n",
    "def modulus(): \n",
    "    if number2 != 0:\n",
    "        mod = number1 % number2\n",
    "        print(\"Modulus =\", mod)\n",
    "    else:\n",
    "        print(\"Modulus by zero is not allowed.\")\n",
    "\n",
    "# Call all functions\n",
    "addition()\n",
    "subtraction()\n",
    "division()\n",
    "multiply()\n",
    "modulus()\n",
    "    \n"
   ]
  },
  {
   "cell_type": "code",
   "execution_count": 11,
   "id": "1074d2b9-94f6-4fa7-8d6c-3146003794cd",
   "metadata": {},
   "outputs": [
    {
     "name": "stdin",
     "output_type": "stream",
     "text": [
      "Enter the number 4\n"
     ]
    },
    {
     "name": "stdout",
     "output_type": "stream",
     "text": [
      "Even\n"
     ]
    }
   ],
   "source": [
    "#conditionals \n",
    "number3 = int(input(\"Enter the number\"))\n",
    "if number3%2==0:\n",
    "    print(\"Even\")\n",
    "else:\n",
    "    print(\"Odd\")"
   ]
  },
  {
   "cell_type": "code",
   "execution_count": 10,
   "id": "557d3cdf-e03e-4564-a01c-44f43fe1577c",
   "metadata": {},
   "outputs": [
    {
     "name": "stdin",
     "output_type": "stream",
     "text": [
      " 8\n",
      " 4\n"
     ]
    },
    {
     "name": "stdout",
     "output_type": "stream",
     "text": [
      "12.0\n",
      "4.0\n",
      "2.0\n"
     ]
    }
   ],
   "source": [
    "number1=float(input())\n",
    "number2=float(input())\n",
    "addition= number1+number2\n",
    "subtract= number1-number2\n",
    "div=number1/number2\n",
    "print(addition)\n",
    "print(subtract)\n",
    "if number2==0:\n",
    "    print(\"Can't divide by 0\")\n",
    "else:\n",
    "    print(div)"
   ]
  },
  {
   "cell_type": "markdown",
   "id": "7b3c6797-91f8-4345-ac5e-657bc75ba1b2",
   "metadata": {},
   "source": [
    "creating gasing game"
   ]
  },
  {
   "cell_type": "code",
   "execution_count": 13,
   "id": "e1e4c644-975b-471f-aca4-d6159cbc8807",
   "metadata": {},
   "outputs": [
    {
     "name": "stdin",
     "output_type": "stream",
     "text": [
      " maria\n"
     ]
    },
    {
     "name": "stdout",
     "output_type": "stream",
     "text": [
      "a is present\n"
     ]
    }
   ],
   "source": [
    "word=input()\n",
    "if 'a' in word:#membership\n",
    "    print(\"a is present\")\n",
    "else:\n",
    "    print(\"a is not there\")"
   ]
  },
  {
   "cell_type": "code",
   "execution_count": null,
   "id": "bbc2646d-5013-4be8-b6af-c46e7e3b6773",
   "metadata": {},
   "outputs": [],
   "source": [
    "l=[45,20,98,7,65,55]\n",
    "n=input()\n",
    "if n in l:\n",
    "    print(\"n is present\")\n",
    "else:\n",
    "    print(\"n is not present\")"
   ]
  },
  {
   "cell_type": "code",
   "execution_count": 14,
   "id": "c2ff4b60-920f-4f3f-bf35-71522ee51810",
   "metadata": {},
   "outputs": [
    {
     "name": "stdout",
     "output_type": "stream",
     "text": [
      "4\n",
      "5\n",
      "6\n",
      "7\n",
      "8\n",
      "9\n",
      "10\n",
      "11\n",
      "12\n",
      "13\n",
      "14\n",
      "15\n",
      "16\n",
      "17\n",
      "18\n",
      "19\n",
      "20\n",
      "21\n",
      "22\n",
      "23\n",
      "24\n",
      "25\n",
      "26\n",
      "27\n",
      "28\n",
      "29\n",
      "30\n",
      "31\n",
      "32\n",
      "33\n",
      "34\n",
      "35\n",
      "36\n",
      "37\n",
      "38\n",
      "39\n",
      "40\n",
      "41\n",
      "42\n",
      "43\n",
      "44\n",
      "45\n",
      "46\n",
      "47\n",
      "48\n",
      "49\n",
      "50\n",
      "51\n",
      "52\n",
      "53\n",
      "54\n",
      "55\n",
      "56\n",
      "57\n",
      "58\n",
      "59\n",
      "60\n",
      "61\n",
      "62\n",
      "63\n",
      "64\n",
      "65\n",
      "66\n",
      "67\n",
      "68\n",
      "69\n",
      "70\n",
      "71\n",
      "72\n",
      "73\n",
      "74\n",
      "75\n",
      "76\n",
      "77\n",
      "78\n",
      "79\n",
      "80\n",
      "81\n",
      "82\n",
      "83\n",
      "84\n",
      "85\n",
      "86\n",
      "87\n",
      "88\n",
      "89\n",
      "90\n",
      "91\n",
      "92\n",
      "93\n",
      "94\n",
      "95\n",
      "96\n",
      "97\n",
      "98\n",
      "99\n"
     ]
    }
   ],
   "source": [
    "for i in range (4,100):\n",
    "    print(i)"
   ]
  },
  {
   "cell_type": "code",
   "execution_count": 15,
   "id": "42199f13-f97f-40a2-b9df-4e89d60ac019",
   "metadata": {},
   "outputs": [],
   "source": [
    "# Homework:  \n",
    "# A more comprehensive example combining concepts\n",
    "import pandas as pd\n",
    "import numpy as np\n",
    "\n",
    "# Create student data\n",
    "student_data = {\n",
    "    'Student_ID': range(1, 100),\n",
    "    'Math': np.random.randint(60, 100, 99),\n",
    "    'Science': np.random.randint(60, 100, 99),\n",
    "    'Literature': np.random.randint(60, 100, 99)\n",
    "}\n",
    "\n",
    "df = pd.DataFrame(student_data)\n"
   ]
  },
  {
   "cell_type": "code",
   "execution_count": 17,
   "id": "0307481a-452d-472a-adc2-bb79ef244f3c",
   "metadata": {},
   "outputs": [
    {
     "data": {
      "text/html": [
       "<div>\n",
       "<style scoped>\n",
       "    .dataframe tbody tr th:only-of-type {\n",
       "        vertical-align: middle;\n",
       "    }\n",
       "\n",
       "    .dataframe tbody tr th {\n",
       "        vertical-align: top;\n",
       "    }\n",
       "\n",
       "    .dataframe thead th {\n",
       "        text-align: right;\n",
       "    }\n",
       "</style>\n",
       "<table border=\"1\" class=\"dataframe\">\n",
       "  <thead>\n",
       "    <tr style=\"text-align: right;\">\n",
       "      <th></th>\n",
       "      <th>Student_ID</th>\n",
       "      <th>Math</th>\n",
       "      <th>Science</th>\n",
       "      <th>Literature</th>\n",
       "    </tr>\n",
       "  </thead>\n",
       "  <tbody>\n",
       "    <tr>\n",
       "      <th>0</th>\n",
       "      <td>1</td>\n",
       "      <td>85</td>\n",
       "      <td>90</td>\n",
       "      <td>60</td>\n",
       "    </tr>\n",
       "    <tr>\n",
       "      <th>1</th>\n",
       "      <td>2</td>\n",
       "      <td>65</td>\n",
       "      <td>86</td>\n",
       "      <td>81</td>\n",
       "    </tr>\n",
       "    <tr>\n",
       "      <th>2</th>\n",
       "      <td>3</td>\n",
       "      <td>72</td>\n",
       "      <td>80</td>\n",
       "      <td>89</td>\n",
       "    </tr>\n",
       "    <tr>\n",
       "      <th>3</th>\n",
       "      <td>4</td>\n",
       "      <td>79</td>\n",
       "      <td>76</td>\n",
       "      <td>67</td>\n",
       "    </tr>\n",
       "  </tbody>\n",
       "</table>\n",
       "</div>"
      ],
      "text/plain": [
       "   Student_ID  Math  Science  Literature\n",
       "0           1    85       90          60\n",
       "1           2    65       86          81\n",
       "2           3    72       80          89\n",
       "3           4    79       76          67"
      ]
     },
     "execution_count": 17,
     "metadata": {},
     "output_type": "execute_result"
    }
   ],
   "source": [
    "df.head(n=4)"
   ]
  },
  {
   "cell_type": "code",
   "execution_count": 18,
   "id": "3b5c9388-7fe5-47e7-907d-ae659e092630",
   "metadata": {},
   "outputs": [
    {
     "data": {
      "text/html": [
       "<div>\n",
       "<style scoped>\n",
       "    .dataframe tbody tr th:only-of-type {\n",
       "        vertical-align: middle;\n",
       "    }\n",
       "\n",
       "    .dataframe tbody tr th {\n",
       "        vertical-align: top;\n",
       "    }\n",
       "\n",
       "    .dataframe thead th {\n",
       "        text-align: right;\n",
       "    }\n",
       "</style>\n",
       "<table border=\"1\" class=\"dataframe\">\n",
       "  <thead>\n",
       "    <tr style=\"text-align: right;\">\n",
       "      <th></th>\n",
       "      <th>Student_ID</th>\n",
       "      <th>Math</th>\n",
       "      <th>Science</th>\n",
       "      <th>Literature</th>\n",
       "    </tr>\n",
       "  </thead>\n",
       "  <tbody>\n",
       "    <tr>\n",
       "      <th>count</th>\n",
       "      <td>99.000000</td>\n",
       "      <td>99.000000</td>\n",
       "      <td>99.000000</td>\n",
       "      <td>99.000000</td>\n",
       "    </tr>\n",
       "    <tr>\n",
       "      <th>mean</th>\n",
       "      <td>50.000000</td>\n",
       "      <td>78.858586</td>\n",
       "      <td>80.303030</td>\n",
       "      <td>79.373737</td>\n",
       "    </tr>\n",
       "    <tr>\n",
       "      <th>std</th>\n",
       "      <td>28.722813</td>\n",
       "      <td>11.271248</td>\n",
       "      <td>11.116686</td>\n",
       "      <td>11.562241</td>\n",
       "    </tr>\n",
       "    <tr>\n",
       "      <th>min</th>\n",
       "      <td>1.000000</td>\n",
       "      <td>60.000000</td>\n",
       "      <td>60.000000</td>\n",
       "      <td>60.000000</td>\n",
       "    </tr>\n",
       "    <tr>\n",
       "      <th>25%</th>\n",
       "      <td>25.500000</td>\n",
       "      <td>69.000000</td>\n",
       "      <td>72.500000</td>\n",
       "      <td>69.500000</td>\n",
       "    </tr>\n",
       "    <tr>\n",
       "      <th>50%</th>\n",
       "      <td>50.000000</td>\n",
       "      <td>79.000000</td>\n",
       "      <td>80.000000</td>\n",
       "      <td>81.000000</td>\n",
       "    </tr>\n",
       "    <tr>\n",
       "      <th>75%</th>\n",
       "      <td>74.500000</td>\n",
       "      <td>89.000000</td>\n",
       "      <td>89.500000</td>\n",
       "      <td>88.500000</td>\n",
       "    </tr>\n",
       "    <tr>\n",
       "      <th>max</th>\n",
       "      <td>99.000000</td>\n",
       "      <td>99.000000</td>\n",
       "      <td>99.000000</td>\n",
       "      <td>99.000000</td>\n",
       "    </tr>\n",
       "  </tbody>\n",
       "</table>\n",
       "</div>"
      ],
      "text/plain": [
       "       Student_ID       Math    Science  Literature\n",
       "count   99.000000  99.000000  99.000000   99.000000\n",
       "mean    50.000000  78.858586  80.303030   79.373737\n",
       "std     28.722813  11.271248  11.116686   11.562241\n",
       "min      1.000000  60.000000  60.000000   60.000000\n",
       "25%     25.500000  69.000000  72.500000   69.500000\n",
       "50%     50.000000  79.000000  80.000000   81.000000\n",
       "75%     74.500000  89.000000  89.500000   88.500000\n",
       "max     99.000000  99.000000  99.000000   99.000000"
      ]
     },
     "execution_count": 18,
     "metadata": {},
     "output_type": "execute_result"
    }
   ],
   "source": [
    "df.describe()"
   ]
  },
  {
   "cell_type": "code",
   "execution_count": 21,
   "id": "58f3854f-bbc5-4658-a83e-f1abad9073e0",
   "metadata": {},
   "outputs": [
    {
     "name": "stdout",
     "output_type": "stream",
     "text": [
      "\n",
      "Means\n",
      "Math:78.86\n",
      "Science:80.30\n",
      "Literature:79.37\n",
      "\n",
      "Maximum\n",
      "Math:99.00\n",
      "Science:99.00\n",
      "Literature:99.00\n",
      "\n",
      "Minmum\n",
      "Math:60.00\n",
      "Science:60.00\n",
      "Literature:60.00\n",
      "\n",
      "Std\n",
      "Math:11.27\n",
      "Science:11.12\n",
      "Literature:11.56\n"
     ]
    }
   ],
   "source": [
    "print(\"\\nMeans\")\n",
    "for col in ['Math','Science','Literature']:\n",
    "    print(f\"{col}:{df[col].mean():.2f}\")\n",
    "print(\"\\nMaximum\")\n",
    "for col in ['Math','Science','Literature']:\n",
    "    print(f\"{col}:{df[col].max():.2f}\")\n",
    "print(\"\\nMinmum\")\n",
    "for col in ['Math','Science','Literature']:\n",
    "    print(f\"{col}:{df[col].min():.2f}\")\n",
    "print(\"\\nStd\")\n",
    "for col in ['Math','Science','Literature']:\n",
    "    print(f\"{col}:{df[col].std():.2f}\")"
   ]
  },
  {
   "cell_type": "code",
   "execution_count": 25,
   "id": "95ea4ef9-8e58-482b-b2cc-48342d563c9e",
   "metadata": {},
   "outputs": [
    {
     "name": "stdout",
     "output_type": "stream",
     "text": [
      "Collecting seaborn\n",
      "  Downloading seaborn-0.13.2-py3-none-any.whl.metadata (5.4 kB)\n",
      "Requirement already satisfied: numpy!=1.24.0,>=1.20 in /opt/homebrew/Cellar/jupyterlab/4.3.4_1/libexec/lib/python3.13/site-packages (from seaborn) (2.2.1)\n",
      "Requirement already satisfied: pandas>=1.2 in /opt/homebrew/Cellar/jupyterlab/4.3.4_1/libexec/lib/python3.13/site-packages (from seaborn) (2.2.3)\n",
      "Collecting matplotlib!=3.6.1,>=3.4 (from seaborn)\n",
      "  Downloading matplotlib-3.10.0-cp313-cp313-macosx_11_0_arm64.whl.metadata (11 kB)\n",
      "Collecting contourpy>=1.0.1 (from matplotlib!=3.6.1,>=3.4->seaborn)\n",
      "  Downloading contourpy-1.3.1-cp313-cp313-macosx_11_0_arm64.whl.metadata (5.4 kB)\n",
      "Collecting cycler>=0.10 (from matplotlib!=3.6.1,>=3.4->seaborn)\n",
      "  Downloading cycler-0.12.1-py3-none-any.whl.metadata (3.8 kB)\n",
      "Collecting fonttools>=4.22.0 (from matplotlib!=3.6.1,>=3.4->seaborn)\n",
      "  Downloading fonttools-4.55.3-cp313-cp313-macosx_10_13_universal2.whl.metadata (165 kB)\n",
      "Collecting kiwisolver>=1.3.1 (from matplotlib!=3.6.1,>=3.4->seaborn)\n",
      "  Downloading kiwisolver-1.4.8-cp313-cp313-macosx_11_0_arm64.whl.metadata (6.2 kB)\n",
      "Requirement already satisfied: packaging>=20.0 in /opt/homebrew/Cellar/jupyterlab/4.3.4_1/libexec/lib/python3.13/site-packages (from matplotlib!=3.6.1,>=3.4->seaborn) (24.2)\n",
      "Collecting pillow>=8 (from matplotlib!=3.6.1,>=3.4->seaborn)\n",
      "  Downloading pillow-11.1.0-cp313-cp313-macosx_11_0_arm64.whl.metadata (9.1 kB)\n",
      "Collecting pyparsing>=2.3.1 (from matplotlib!=3.6.1,>=3.4->seaborn)\n",
      "  Downloading pyparsing-3.2.1-py3-none-any.whl.metadata (5.0 kB)\n",
      "Requirement already satisfied: python-dateutil>=2.7 in /opt/homebrew/Cellar/jupyterlab/4.3.4_1/libexec/lib/python3.13/site-packages (from matplotlib!=3.6.1,>=3.4->seaborn) (2.9.0.post0)\n",
      "Requirement already satisfied: pytz>=2020.1 in /opt/homebrew/Cellar/jupyterlab/4.3.4_1/libexec/lib/python3.13/site-packages (from pandas>=1.2->seaborn) (2024.2)\n",
      "Requirement already satisfied: tzdata>=2022.7 in /opt/homebrew/Cellar/jupyterlab/4.3.4_1/libexec/lib/python3.13/site-packages (from pandas>=1.2->seaborn) (2024.2)\n",
      "Requirement already satisfied: six>=1.5 in /opt/homebrew/Cellar/jupyterlab/4.3.4_1/libexec/lib/python3.13/site-packages (from python-dateutil>=2.7->matplotlib!=3.6.1,>=3.4->seaborn) (1.17.0)\n",
      "Downloading seaborn-0.13.2-py3-none-any.whl (294 kB)\n",
      "Downloading matplotlib-3.10.0-cp313-cp313-macosx_11_0_arm64.whl (8.0 MB)\n",
      "\u001b[2K   \u001b[90m━━━━━━━━━━━━━━━━━━━━━━━━━━━━━━━━━━━━━━━━\u001b[0m \u001b[32m8.0/8.0 MB\u001b[0m \u001b[31m633.3 kB/s\u001b[0m eta \u001b[36m0:00:00\u001b[0m00:01\u001b[0m00:01\u001b[0m\n",
      "Downloading contourpy-1.3.1-cp313-cp313-macosx_11_0_arm64.whl (255 kB)\n",
      "Downloading cycler-0.12.1-py3-none-any.whl (8.3 kB)\n",
      "Downloading fonttools-4.55.3-cp313-cp313-macosx_10_13_universal2.whl (2.8 MB)\n",
      "\u001b[2K   \u001b[90m━━━━━━━━━━━━━━━━━━━━━━━━━━━━━━━━━━━━━━━━\u001b[0m \u001b[32m2.8/2.8 MB\u001b[0m \u001b[31m848.8 kB/s\u001b[0m eta \u001b[36m0:00:00\u001b[0ma \u001b[36m0:00:01\u001b[0m\n",
      "Downloading kiwisolver-1.4.8-cp313-cp313-macosx_11_0_arm64.whl (65 kB)\n",
      "Downloading pillow-11.1.0-cp313-cp313-macosx_11_0_arm64.whl (3.1 MB)\n",
      "\u001b[2K   \u001b[90m━━━━━━━━━━━━━━━━━━━━━━━━━━━━━━━━━━━━━━━━\u001b[0m \u001b[32m3.1/3.1 MB\u001b[0m \u001b[31m1.1 MB/s\u001b[0m eta \u001b[36m0:00:00\u001b[0ma \u001b[36m0:00:01\u001b[0m0m\n",
      "Downloading pyparsing-3.2.1-py3-none-any.whl (107 kB)\n",
      "Installing collected packages: pyparsing, pillow, kiwisolver, fonttools, cycler, contourpy, matplotlib, seaborn\n",
      "Successfully installed contourpy-1.3.1 cycler-0.12.1 fonttools-4.55.3 kiwisolver-1.4.8 matplotlib-3.10.0 pillow-11.1.0 pyparsing-3.2.1 seaborn-0.13.2\n",
      "Note: you may need to restart the kernel to use updated packages.\n"
     ]
    }
   ],
   "source": [
    "pip install seaborn\n"
   ]
  },
  {
   "cell_type": "code",
   "execution_count": 26,
   "id": "615cb68b-860e-4eba-8909-5c54107eb4a3",
   "metadata": {},
   "outputs": [
    {
     "name": "stdout",
     "output_type": "stream",
     "text": [
      "Requirement already satisfied: matplotlib in /opt/homebrew/Cellar/jupyterlab/4.3.4_1/libexec/lib/python3.13/site-packages (3.10.0)\n",
      "Requirement already satisfied: contourpy>=1.0.1 in /opt/homebrew/Cellar/jupyterlab/4.3.4_1/libexec/lib/python3.13/site-packages (from matplotlib) (1.3.1)\n",
      "Requirement already satisfied: cycler>=0.10 in /opt/homebrew/Cellar/jupyterlab/4.3.4_1/libexec/lib/python3.13/site-packages (from matplotlib) (0.12.1)\n",
      "Requirement already satisfied: fonttools>=4.22.0 in /opt/homebrew/Cellar/jupyterlab/4.3.4_1/libexec/lib/python3.13/site-packages (from matplotlib) (4.55.3)\n",
      "Requirement already satisfied: kiwisolver>=1.3.1 in /opt/homebrew/Cellar/jupyterlab/4.3.4_1/libexec/lib/python3.13/site-packages (from matplotlib) (1.4.8)\n",
      "Requirement already satisfied: numpy>=1.23 in /opt/homebrew/Cellar/jupyterlab/4.3.4_1/libexec/lib/python3.13/site-packages (from matplotlib) (2.2.1)\n",
      "Requirement already satisfied: packaging>=20.0 in /opt/homebrew/Cellar/jupyterlab/4.3.4_1/libexec/lib/python3.13/site-packages (from matplotlib) (24.2)\n",
      "Requirement already satisfied: pillow>=8 in /opt/homebrew/Cellar/jupyterlab/4.3.4_1/libexec/lib/python3.13/site-packages (from matplotlib) (11.1.0)\n",
      "Requirement already satisfied: pyparsing>=2.3.1 in /opt/homebrew/Cellar/jupyterlab/4.3.4_1/libexec/lib/python3.13/site-packages (from matplotlib) (3.2.1)\n",
      "Requirement already satisfied: python-dateutil>=2.7 in /opt/homebrew/Cellar/jupyterlab/4.3.4_1/libexec/lib/python3.13/site-packages (from matplotlib) (2.9.0.post0)\n",
      "Requirement already satisfied: six>=1.5 in /opt/homebrew/Cellar/jupyterlab/4.3.4_1/libexec/lib/python3.13/site-packages (from python-dateutil>=2.7->matplotlib) (1.17.0)\n",
      "Note: you may need to restart the kernel to use updated packages.\n"
     ]
    }
   ],
   "source": [
    "pip install matplotlib\n"
   ]
  },
  {
   "cell_type": "code",
   "execution_count": null,
   "id": "67de9455-348d-4209-a7fe-fe41e33a6754",
   "metadata": {},
   "outputs": [],
   "source": []
  },
  {
   "cell_type": "code",
   "execution_count": null,
   "id": "11a26c38-b567-47b0-b934-b65f3a816ca1",
   "metadata": {},
   "outputs": [],
   "source": []
  }
 ],
 "metadata": {
  "kernelspec": {
   "display_name": "Python 3 (ipykernel)",
   "language": "python",
   "name": "python3"
  },
  "language_info": {
   "codemirror_mode": {
    "name": "ipython",
    "version": 3
   },
   "file_extension": ".py",
   "mimetype": "text/x-python",
   "name": "python",
   "nbconvert_exporter": "python",
   "pygments_lexer": "ipython3",
   "version": "3.13.1"
  }
 },
 "nbformat": 4,
 "nbformat_minor": 5
}
